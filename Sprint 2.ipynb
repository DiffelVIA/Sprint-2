{
 "cells": [
  {
   "cell_type": "markdown",
   "id": "3c9e67f3",
   "metadata": {},
   "source": [
    "Todavía desempeñándote como miembro del equipo analítico, en el primer proyecto hemos sentado las bases para la segunda fase. ¡Hemos llegado! Ahora aplicarás técnicas avanzadas para extraer datos significativos, atendiendo a las crecientes necesidades del cliente."
   ]
  },
  {
   "cell_type": "markdown",
   "id": "243f512a",
   "metadata": {},
   "source": [
    "Como sabes, las empresas recopilan y almacenan datos de una forma particular. Store 1 quiere almacenar toda la información de sus clientes en una tabla.\n",
    "\n",
    "\n",
    "| user_id | user_name | user_age | purchase_category | spending_per_category |\n",
    "| --- | --- | --- | --- | --- |\n",
    "| '32415' | 'mike', 'reed' | 32 | 'electronics', 'sport', 'books' | 894, 213, 173 |\n",
    "| '31980' | 'kate', 'morgan' | 24 | 'clothes', 'shoes' | 439, 390 |\n",
    "\n",
    "En términos técnicos, una tabla es simplemente una lista anidada que contiene una sublista para cada usuario o usuaria.\n",
    "\n",
    "Store 1 ha creado una tabla de este tipo para sus usuarios. Está almacenada en la variable \"users\". Cada sublista contiene el ID del usuario, nombre y apellido, edad, categorías favoritas y el importe gastado en cada categoría."
   ]
  },
  {
   "cell_type": "markdown",
   "id": "3b9ab2c7",
   "metadata": {},
   "source": [
    "-\t**user_id:** el identificador único para cada usuario.\n",
    "-\t**user_name:** el nombre de usuario.\n",
    "-\t**user_age:** la edad del usuario.\n",
    "-\t**fav_categories:** las categorías de artículos comprados por el usuario, como 'ELECTRONICS', 'SPORT', 'BOOKS', etc.\n",
    "-\t**total_spendings:** la lista de enteros que indican la cantidad gastada en cada una de sus categorías favoritas."
   ]
  },
  {
   "cell_type": "code",
   "execution_count": 111,
   "id": "b02e88ae",
   "metadata": {},
   "outputs": [],
   "source": [
    "#Lista con datos dada en el curso\n",
    "\n",
    "users = [\n",
    "    ['32415', ' mike_reed ', 32.0, ['ELECTRONICS', 'SPORT', 'BOOKS'], [894, 213, 173]],\n",
    "    ['31980', 'kate morgan', 24.0, ['CLOTHES', 'BOOKS'], [439, 390]],\n",
    "    ['32156', ' john doe ', 37.0, ['ELECTRONICS', 'HOME', 'FOOD'], [459, 120, 99]],\n",
    "    ['32761', 'SAMANTHA SMITH', 29.0, ['CLOTHES', 'ELECTRONICS', 'BEAUTY'], [299, 679, 85]],\n",
    "    ['32984', 'David White', 41.0, ['BOOKS', 'HOME', 'SPORT'], [234, 329, 243]],\n",
    "    ['33001', 'emily brown', 26.0, ['BEAUTY', 'HOME', 'FOOD'], [213, 659, 79]],\n",
    "    ['33767', ' Maria Garcia', 33.0, ['CLOTHES', 'FOOD', 'BEAUTY'], [499, 189, 63]],\n",
    "    ['33912', 'JOSE MARTINEZ', 22.0, ['SPORT', 'ELECTRONICS', 'HOME'], [259, 549, 109]],\n",
    "    ['34009', 'lisa wilson ', 35.0, ['HOME', 'BOOKS', 'CLOTHES'], [329, 189, 329]],\n",
    "    ['34278', 'James Lee', 28.0, ['BEAUTY', 'CLOTHES', 'ELECTRONICS'], [189, 299, 579]],\n",
    "]"
   ]
  },
  {
   "cell_type": "markdown",
   "id": "4b05dd52",
   "metadata": {},
   "source": [
    "# Paso 1\n",
    "\n",
    "En la última tarea de la primera parte de este proyecto escribiste código para:\n",
    "\n",
    "1. Eliminar todos los espacios iniciales y finales de los nombres, así como cualquier guion bajo.\n",
    "2. Convertir todas las edades en números enteros.\n",
    "3. Separar todos los nombres y apellidos en una sublista.\n",
    "\n",
    "Hagámoslo ahora una función para que podamos usarla para fijar a cualquier cliente. Nombra a tu función `clean_user`. Debe recibir una lista con toda la información del cliente (user_info), así como dos enteros. Uno de ellos señala el índice del nombre del cliente y el otro es el índice de la edad del cliente en la lista. Debe devolver la lista limpia después de aplicar todos los cambios anteriores. Pruébala llamándola, pasándole la lista `test_user[]` y luego muéstrala en pantalla."
   ]
  },
  {
   "cell_type": "code",
   "execution_count": 112,
   "id": "fa0f3dc5",
   "metadata": {},
   "outputs": [],
   "source": [
    "#Creación de la función específicada\n",
    "def clean_user (info, name, age, fav_cat): #declaración de la función, así como de sus parametros.\n",
    "    result=[] #variable vacía para agregar cambios\n",
    "    for user in info: #ciclo for para actuar sobre el primer parametro \"info\"\n",
    "        categories_low = [] #Variable vacía para almacenar las categorías reducidas a minúsculas\n",
    "        name_mod = name.strip().replace('_',' ').split() #modificación del nombre, quitar espacios, quitar snake_case y separar las dos cadenas\n",
    "        age_mod = int(age) #Conversión de float a integer \n",
    "        info.pop(1) #Uso de método pop para eliminar el elemento con índice 1 de info\n",
    "        info.pop(2) #Uso de método pop para eliminar el elemento con índice 2 de info\n",
    "        info.insert(1, name_mod) #uso de insert para agregar los cambios realizados al nombre en el índice 1 de info\n",
    "        info.insert(2, age_mod) #uso de insert para agregar los cambios realizados a la edad en el índice 2 de info\n",
    "        for category in fav_cat: #Ciclo for para actuar en las categorías, el cuarto parámetro de la función\n",
    "            category = category.lower() #Uso de lower para reducir a minúsculas\n",
    "            categories_low.append(category) #Agregar los cambios de las categorías en el ciclo a la variable vacía categories_low\n",
    "        info.pop(3) #Uso de pop para eliminar el elemento con índice 3 de info\n",
    "        info.insert(3,categories_low) #Uso de insert para agregar los cambios realizados a las categorías en el índice 3 de info\n",
    "    result.append(info) #Agregar los datos modificados del parámetro info a la variable vacía result\n",
    "\n",
    "    return result #retorno de la variable result"
   ]
  },
  {
   "cell_type": "code",
   "execution_count": 113,
   "id": "104d2122",
   "metadata": {},
   "outputs": [],
   "source": [
    "#Lista dada por el curso\n",
    "test_user = ['32415', ' mike_reed ', 32.0, ['ELECTRONICS', 'SPORT', 'BOOKS'], [894, 213, 173]]\n",
    "\n",
    "#Variables con los índices para las modificaciones de la lista\n",
    "name_index = 1 \n",
    "age_index = 2\n",
    "cat_index = 3"
   ]
  },
  {
   "cell_type": "code",
   "execution_count": 114,
   "id": "0c159ad8",
   "metadata": {},
   "outputs": [
    {
     "name": "stdout",
     "output_type": "stream",
     "text": [
      "[['32415', ['mike', 'reed'], 32, ['electronics', 'sport', 'books'], [894, 213, 173]]]\n"
     ]
    }
   ],
   "source": [
    "#Código para llamar a la función creada\n",
    "print(clean_user(test_user, test_user[name_index], test_user[age_index], test_user[cat_index]))"
   ]
  },
  {
   "cell_type": "markdown",
   "id": "f1339a31",
   "metadata": {},
   "source": [
    "# Paso 2\n",
    "\n",
    "Observa que todas las categorías favoritas están almacenadas en mayúsculas. Llena una nueva lista llamada `fav_categories_low` con las mismas categorías, pero en minúsculas, iterando sobre los valores en la lista `fav_categories`, modificándolos y luego añade los nuevos valores a la lista `fav_categories_low`. Como siempre, muestra el resultado final.\n"
   ]
  },
  {
   "cell_type": "code",
   "execution_count": 115,
   "id": "3e547345",
   "metadata": {},
   "outputs": [
    {
     "name": "stdout",
     "output_type": "stream",
     "text": [
      "['electronics', 'sport', 'books']\n"
     ]
    }
   ],
   "source": [
    "#Código para iterar sobre todas las categorías y hacer cambios\n",
    "fav_categories = ['ELECTRONICS', 'SPORT', 'BOOKS'] #Variable con la lista de categorías a modificar\n",
    "\n",
    "fav_categories_low = [] #Variable vacía para almacenar los cambios realizados\n",
    "\n",
    "for category in fav_categories: #Ciclo for para iterar en cada categoría de la variable fav_categories\n",
    "    category = category.lower() #línea que devuelve las cadenas en minúsculas\n",
    "    fav_categories_low.append(category) #Línea que agrega los cambios de cada categoría a la variable vacía fav_categories_low\n",
    "print(fav_categories_low)"
   ]
  },
  {
   "cell_type": "markdown",
   "id": "de476c4d",
   "metadata": {},
   "source": [
    "# Paso 3\n",
    "\n",
    "Ahora hagamos lo mismo, pero para cada uno de los usuarios de la empresa. Llena una lista nueva llamada `users_categories_low` con los mismos usuarios, pero con sus categorías en minúsculas, iterando sobre los valores en la lista `users`, luego itera sobre los valores en `user_categories`, modificándolos, y después agrega los nuevos valores de usuarios a la lista `users_categories_low`. Como siempre, muestra el resultado final.\n"
   ]
  },
  {
   "cell_type": "code",
   "execution_count": 116,
   "id": "8fcff120",
   "metadata": {},
   "outputs": [],
   "source": [
    "users = [\n",
    "    ['32415', ' mike_reed ', 32.0, ['ELECTRONICS', 'SPORT', 'BOOKS'], [894, 213, 173]],\n",
    "    ['31980', 'kate morgan', 24.0, ['CLOTHES', 'BOOKS'], [439, 390]],\n",
    "    ['32156', ' john doe ', 37.0, ['ELECTRONICS', 'HOME', 'FOOD'], [459, 120, 99]],\n",
    "    ['32761', 'SAMANTHA SMITH', 29.0, ['CLOTHES', 'ELECTRONICS', 'BEAUTY'], [299, 679, 85]],\n",
    "    ['32984', 'David White', 41.0, ['BOOKS', 'HOME', 'SPORT'], [234, 329, 243]],\n",
    "    ['33001', 'emily brown', 26.0, ['BEAUTY', 'HOME', 'FOOD'], [213, 659, 79]],\n",
    "    ['33767', ' Maria Garcia', 33.0, ['CLOTHES', 'FOOD', 'BEAUTY'], [499, 189, 63]],\n",
    "    ['33912', 'JOSE MARTINEZ', 22.0, ['SPORT', 'ELECTRONICS', 'HOME'], [259, 549, 109]],\n",
    "    ['34009', 'lisa wilson ', 35.0, ['HOME', 'BOOKS', 'CLOTHES'], [329, 189, 329]],\n",
    "    ['34278', 'James Lee', 28.0, ['BEAUTY', 'CLOTHES', 'ELECTRONICS'], [189, 299, 579]],\n",
    "] #Variable dada para hacer cambios"
   ]
  },
  {
   "cell_type": "code",
   "execution_count": 117,
   "id": "b3d722d7",
   "metadata": {},
   "outputs": [
    {
     "name": "stdout",
     "output_type": "stream",
     "text": [
      "[['32415', ' mike_reed ', 32.0, ['electronics', 'sport', 'books'], [894, 213, 173]], ['31980', 'kate morgan', 24.0, ['clothes', 'books'], [439, 390]], ['32156', ' john doe ', 37.0, ['electronics', 'home', 'food'], [459, 120, 99]], ['32761', 'SAMANTHA SMITH', 29.0, ['clothes', 'electronics', 'beauty'], [299, 679, 85]], ['32984', 'David White', 41.0, ['books', 'home', 'sport'], [234, 329, 243]], ['33001', 'emily brown', 26.0, ['beauty', 'home', 'food'], [213, 659, 79]], ['33767', ' Maria Garcia', 33.0, ['clothes', 'food', 'beauty'], [499, 189, 63]], ['33912', 'JOSE MARTINEZ', 22.0, ['sport', 'electronics', 'home'], [259, 549, 109]], ['34009', 'lisa wilson ', 35.0, ['home', 'books', 'clothes'], [329, 189, 329]], ['34278', 'James Lee', 28.0, ['beauty', 'clothes', 'electronics'], [189, 299, 579]]]\n"
     ]
    }
   ],
   "source": [
    "users_categories_low = [] #Variable vacía a llenar con los cambios\n",
    "\n",
    "for user in users: #Ciclo for para iterar en cada usuario de la lista dada\n",
    "    categories_low = [] #Variable vacía para almacenar los cambios a las categorías\n",
    "    for categori in user[3]: #Ciclo for que itera sobre las categorías, estas corresponden a cada usuario en el índice 3\n",
    "        categori = categori.lower() #Línea que disminuye las cadenas a minúsculas\n",
    "        categories_low.append(categori) #Línea para agregar los cambios a las categorías\n",
    "    user.pop(3) #Línea que elimina los elementos con índice 3 de cada usuario de la variable users\n",
    "    user.insert(3, categories_low) #Línea que inserta en el índice 3 de cada usuario la variable categories_low\n",
    "    users_categories_low.append(user) #Línea que agrega a la variable vacía users_categories_low los cambios\n",
    "\n",
    "print(users_categories_low)"
   ]
  },
  {
   "cell_type": "markdown",
   "id": "6ba50420",
   "metadata": {},
   "source": [
    "# Paso 4\n",
    "\n",
    "Ahora, completemos el código de nuestra función `clean_user` para limpiar la categoría:\n",
    "1. Añade otro parámetro con el índice de categorías.\n",
    "2. Pon todos los nombres en minúsculas antes de aplicar \"strip\" y \"replace\".\n",
    "\n",
    "Después, crea un bucle y aplica tu función a toda la lista de usuarios, agregando tus resultados a la lista `users_clean`. Después muéstralo"
   ]
  },
  {
   "cell_type": "code",
   "execution_count": 118,
   "id": "c9d8a386",
   "metadata": {},
   "outputs": [],
   "source": [
    "users_list = [\n",
    "    ['32415', ' mike_reed ', 32.0, ['ELECTRONICS', 'SPORT', 'BOOKS'], [894, 213, 173]],\n",
    "    ['31980', 'kate morgan', 24.0, ['CLOTHES', 'BOOKS'], [439, 390]],\n",
    "    ['32156', ' john doe ', 37.0, ['ELECTRONICS', 'HOME', 'FOOD'], [459, 120, 99]],\n",
    "    ['32761', 'SAMANTHA SMITH', 29.0, ['CLOTHES', 'ELECTRONICS', 'BEAUTY'], [299, 679, 85]],\n",
    "    ['32984', 'David White', 41.0, ['BOOKS', 'HOME', 'SPORT'], [234, 329, 243]],\n",
    "    ['33001', 'emily brown', 26.0, ['BEAUTY', 'HOME', 'FOOD'], [213, 659, 79]],\n",
    "    ['33767', ' Maria Garcia', 33.0, ['CLOTHES', 'FOOD', 'BEAUTY'], [499, 189, 63]],\n",
    "    ['33912', 'JOSE MARTINEZ', 22.0, ['SPORT', 'ELECTRONICS', 'HOME'], [259, 549, 109]],\n",
    "    ['34009', 'lisa wilson ', 35.0, ['HOME', 'BOOKS', 'CLOTHES'], [329, 189, 329]],\n",
    "    ['34278', 'James Lee', 28.0, ['BEAUTY', 'CLOTHES', 'ELECTRONICS'], [189, 299, 579]],\n",
    "] #Variable dada para hacer cambios"
   ]
  },
  {
   "cell_type": "code",
   "execution_count": null,
   "id": "f76862d2",
   "metadata": {},
   "outputs": [],
   "source": [
    "def user_clean(list, name, age, cats): #Definición de la función y sus parámetros\n",
    "    result = [] #Varoable vacía result para guardar el resultado de la función\n",
    "    names_cleaned = [] # Variable vacía donde almacenar los nombres corregidos\n",
    "    for usuario in list: #ciclo for para iterar en cada sublista o usuario\n",
    "        categories_mod_low = [] #Variable vacía para almacenar las categorías modificadas\n",
    "        user_name_1 = name.lower().strip().replace('_',' ').split() #Línea que hace minúscula, quita espacios, remplaza el \"_\" por espacio y separa las cadenas en 2 cadenas separadas\n",
    "        user_age_1 = int(age) #Línea que vuelve entero\n",
    "        list.pop(1) #Eliminación de los nombres de usuarios que son el índice 1\n",
    "        list.insert(1,user_name_1) #Inserción de los nombres modificados en líneas previas\n",
    "        list.pop(2) #Eliminación del índice 2 de la lista, que corresponde a la edad\n",
    "        list.insert(2,user_age_1) #Inserción en el índice 2 de las edades vueltas entero\n",
    "        for fav_cat in cats: #Ciclo for para iterar en cada sublista de las categorías\n",
    "            fav_cat = fav_cat.lower() #Disminución a minúsculas las categorías\n",
    "            categories_mod_low.append(fav_cat) #Adición de las categorías en minúsculas a la lista vacía creada\n",
    "        list.pop(3) #Eliminación del índice 3 correspondiente a las categorías\n",
    "        list.insert(3,categories_mod_low) #Inserción de las categorías modificadas en el índice 3.\n",
    "    result.append(list) #Adición de los cambios realizados a la lista a la variable vacía result creada\n",
    "    return result #Retorno de la función con los cambios implementados"
   ]
  },
  {
   "cell_type": "code",
   "execution_count": 121,
   "id": "2749496d",
   "metadata": {},
   "outputs": [
    {
     "name": "stdout",
     "output_type": "stream",
     "text": [
      "[[['32415', ['mike', 'reed'], 32, ['electronics', 'sport', 'books'], [894, 213, 173]]], [['31980', ['kate', 'morgan'], 24, ['clothes', 'books'], [439, 390]]], [['32156', ['john', 'doe'], 37, ['electronics', 'home', 'food'], [459, 120, 99]]], [['32761', ['samantha', 'smith'], 29, ['clothes', 'electronics', 'beauty'], [299, 679, 85]]], [['32984', ['david', 'white'], 41, ['books', 'home', 'sport'], [234, 329, 243]]], [['33001', ['emily', 'brown'], 26, ['beauty', 'home', 'food'], [213, 659, 79]]], [['33767', ['maria', 'garcia'], 33, ['clothes', 'food', 'beauty'], [499, 189, 63]]], [['33912', ['jose', 'martinez'], 22, ['sport', 'electronics', 'home'], [259, 549, 109]]], [['34009', ['lisa', 'wilson'], 35, ['home', 'books', 'clothes'], [329, 189, 329]]], [['34278', ['james', 'lee'], 28, ['beauty', 'clothes', 'electronics'], [189, 299, 579]]]]\n"
     ]
    }
   ],
   "source": [
    "n_index = 1\n",
    "a_index = 2\n",
    "c_index = 3\n",
    "users_cleaned = [] #Creación de la variable vacía donde alojar el resultado de la función llamada\n",
    "for user in users_list: #Ciclo for para iterar en cada usuario de la lista dada\n",
    "    user_cleaned = user_clean(user, user[n_index], user[a_index], user[c_index]) #Almacenaje de la función llamada\n",
    "    users_cleaned.append(user_cleaned) #adición de la variable que almacena a la función llamada\n",
    "print(users_cleaned)\n"
   ]
  },
  {
   "cell_type": "markdown",
   "id": "52d53b1c",
   "metadata": {},
   "source": [
    "# Paso 5\n",
    "\n",
    "La empresa desea conocer sus ingresos totales y te pide que proporciones este valor.\n",
    "Para calcular los ingresos de la empresa, sigue estos pasos:\n",
    "\n",
    "1. Utiliza `for` para iterar sobre la lista `users`.\n",
    "2. Extrae la lista de gastos de cada usuario y suma los valores.\n",
    "3. Actualiza el valor de los ingresos con el total de cada usuario.\n",
    "\n",
    "Así obtendrás los ingresos totales de la empresa que mostrarás en la pantalla al final."
   ]
  },
  {
   "cell_type": "code",
   "execution_count": null,
   "id": "273e6c3c",
   "metadata": {},
   "outputs": [],
   "source": [
    "#Lista de usuarios dada para el paso 5\n",
    "users = [['32415', ['mike', 'reed'], 32, ['electronics', 'sport', 'books'], [894, 213, 173]],\n",
    "         ['31980', ['kate', 'morgan'], 24, ['clothes', 'books'], [439, 390]],\n",
    "         ['32156', ['john', 'doe'], 37, ['electronics', 'home', 'food'], [459, 120, 99]],\n",
    "         ['32761', ['samantha', 'smith'], 29, ['clothes', 'electronics', 'beauty'], [299, 679, 85]],\n",
    "         ['32984', ['david', 'white'], 41, ['books', 'home', 'sport'], [234, 329, 243]],\n",
    "         ['33001', ['emily', 'brown'], 26, ['beauty', 'home', 'food'], [213, 659, 79]],\n",
    "         ['33767', ['maria', 'garcia'], 33, ['clothes', 'food', 'beauty'], [499, 189, 63]],\n",
    "         ['33912', ['jose', 'martinez'], 22, ['sport', 'electronics', 'home'], [259, 549, 109]],\n",
    "         ['34009', ['lisa', 'wilson'], 35, ['home', 'books', 'clothes'], [329, 189, 329]],\n",
    "         ['34278', ['james', 'lee'], 28, ['beauty', 'clothes', 'electronics'], [189, 299, 579]]]"
   ]
  },
  {
   "cell_type": "code",
   "execution_count": 124,
   "id": "a46549a2",
   "metadata": {},
   "outputs": [
    {
     "name": "stdout",
     "output_type": "stream",
     "text": [
      "Los ingresos totales fueron $9189\n"
     ]
    }
   ],
   "source": [
    "revenue = 0 #Variable que almacena el beneficio de la empresa, iniciada en 0\n",
    "spending_list = [] #Creación de variable vacía para guardar\n",
    "\n",
    "for usuario in users: #Ciclo for para iterar en cada usuario\n",
    "    spendings = sum(usuario[4]) #Línea para sumar los valores del índice 4, corresponden a la sublista con los gastos por categoría\n",
    "    spending_list.append(spendings) #Adición de la suma a la variable spending_list\n",
    "    for total_spendings in spending_list: #Ciclo for para sumar todos los totales en la variable tota_spendings\n",
    "        total_spendings += 0 #Establecimiento de la variable total_spendings en 0 para ir sumando cada total.\n",
    "    revenue += total_spendings #adición de total_spendings a la variable revenue\n",
    "\n",
    "print(f\"Los ingresos totales fueron ${revenue}\")"
   ]
  },
  {
   "cell_type": "markdown",
   "id": "4a6a5811",
   "metadata": {},
   "source": [
    "# Paso 6\n",
    "\n",
    "La empresa quiere ofrecer descuentos a sus clientes leales. Los clientes que realizan compras por un importe total mayor a $1500 se consideran leales y recibirán un descuento.\n",
    "\n",
    "Nuestro objetivo es crear un bucle `while` que compruebe el importe total gastado y se detenga al alcanzarlo. Para simular nuevas compras, la variable `new_purchase` genera un número entre 30 y 80 en cada iteración del bucle. Esto representa la cantidad de dinero gastada en una nueva compra y es lo que debes agregar al total.\n",
    "\n",
    "Una vez que se alcance el importe objetivo y se termine el bucle `while`, se mostrará la cantidad final."
   ]
  },
  {
   "cell_type": "code",
   "execution_count": null,
   "id": "846ed9ec",
   "metadata": {},
   "outputs": [
    {
     "name": "stdout",
     "output_type": "stream",
     "text": [
      " La cantidad total gastada fue de $1539\n"
     ]
    }
   ],
   "source": [
    "from random import randint #Importación de la generación aleatoria de numeros\n",
    "\n",
    "total_amount_spent = 1200 #Establecimiento de la variable del total gastado por el usuario\n",
    "target_amount = 1500 #Establecimiento de gasto objetivo\n",
    "\n",
    "while total_amount_spent < target_amount: #Ciclo while indicando la sentencia logica para mantener el bucle\n",
    "    new_purchse = randint(30,80) #variable que genera numeros aleatorios, en este caso entre 30 y 80\n",
    "    total_amount_spent += new_purchse #suma de los numeros aleatorios a la variable del gasto total\n",
    "\n",
    "print(f\" La cantidad total gastada fue de ${total_amount_spent}\") #Cadena formateada que imprime la cantidad gastada"
   ]
  },
  {
   "cell_type": "markdown",
   "id": "76acaccd",
   "metadata": {},
   "source": [
    "# Paso 7\n",
    "\n",
    "Recorre la lista de usuarios que te hemos proporcionado y muestra los nombres de los clientes menores de 30 años."
   ]
  },
  {
   "cell_type": "code",
   "execution_count": null,
   "id": "bb6c4e0d",
   "metadata": {},
   "outputs": [
    {
     "name": "stdout",
     "output_type": "stream",
     "text": [
      "Nombre del usuario: kate\n",
      "Nombre del usuario: samantha\n",
      "Nombre del usuario: emily\n",
      "Nombre del usuario: jose\n",
      "Nombre del usuario: james\n"
     ]
    }
   ],
   "source": [
    "users = [['32415', ['mike', 'reed'], 32, ['electronics', 'sport', 'books'], [894, 213, 173]],\n",
    "         ['31980', ['kate', 'morgan'], 24, ['clothes', 'books'], [439, 390]],\n",
    "         ['32156', ['john', 'doe'], 37, ['electronics', 'home', 'food'], [459, 120, 99]],\n",
    "         ['32761', ['samantha', 'smith'], 29, ['clothes', 'electronics', 'beauty'], [299, 679, 85]],\n",
    "         ['32984', ['david', 'white'], 41, ['books', 'home', 'sport'], [234, 329, 243]],\n",
    "         ['33001', ['emily', 'brown'], 26, ['beauty', 'home', 'food'], [213, 659, 79]],\n",
    "         ['33767', ['maria', 'garcia'], 33, ['clothes', 'food', 'beauty'], [499, 189, 63]],\n",
    "         ['33912', ['jose', 'martinez'], 22, ['sport', 'electronics', 'home'], [259, 549, 109]],\n",
    "         ['34009', ['lisa', 'wilson'], 35, ['home', 'books', 'clothes'], [329, 189, 329]],\n",
    "         ['34278', ['james', 'lee'], 28, ['beauty', 'clothes', 'electronics'], [189, 299, 579]]]\n",
    "\n",
    "for user in users: #Ciclo for que itera sobre cada usuario\n",
    "    if user[2] < 30: #Sentencia if que comprueba si la edad de cada usuario es menor a 30 años\n",
    "        print(f\"Nombre del usuario: {user[1][0]}\") #Cadena formateada que se queda con el índice 1 que es la sublista del nombre y con el índice 0 que es el puro nombre sin apellido    "
   ]
  },
  {
   "cell_type": "markdown",
   "id": "47112d2c",
   "metadata": {},
   "source": [
    "# Paso 8\n",
    "\n",
    "Mostremos en pantalla los nombres de los usuarios menores de 30 años que acumulan un gasto total superior a 1000 dólares."
   ]
  },
  {
   "cell_type": "code",
   "execution_count": 137,
   "id": "035d3a9d",
   "metadata": {},
   "outputs": [
    {
     "name": "stdout",
     "output_type": "stream",
     "text": [
      "Nombre del usuario: samantha\n",
      "Nombre del usuario: james\n"
     ]
    }
   ],
   "source": [
    "users = [['32415', ['mike', 'reed'], 32, ['electronics', 'sport', 'books'], [894, 213, 173]],\n",
    "         ['31980', ['kate', 'morgan'], 24, ['clothes', 'books'], [439, 390]],\n",
    "         ['32156', ['john', 'doe'], 37, ['electronics', 'home', 'food'], [459, 120, 99]],\n",
    "         ['32761', ['samantha', 'smith'], 29, ['clothes', 'electronics', 'beauty'], [299, 679, 85]],\n",
    "         ['32984', ['david', 'white'], 41, ['books', 'home', 'sport'], [234, 329, 243]],\n",
    "         ['33001', ['emily', 'brown'], 26, ['beauty', 'home', 'food'], [213, 659, 79]],\n",
    "         ['33767', ['maria', 'garcia'], 33, ['clothes', 'food', 'beauty'], [499, 189, 63]],\n",
    "         ['33912', ['jose', 'martinez'], 22, ['sport', 'electronics', 'home'], [259, 549, 109]],\n",
    "         ['34009', ['lisa', 'wilson'], 35, ['home', 'books', 'clothes'], [329, 189, 329]],\n",
    "         ['34278', ['james', 'lee'], 28, ['beauty', 'clothes', 'electronics'], [189, 299, 579]]]\n",
    "\n",
    "for user in users: #Ciclo for que itera sobre cada usuario\n",
    "    if user[2] < 30 and sum(user[4]) > 1000: #Sentencia if que evalua si el usuario tiene menos de 30 años y que haya gastado más de 1000\n",
    "        print(f\"Nombre del usuario: {user[1][0]}\") #Cadena formateada que devuelvela sublista con índice 1 y se queda con el índice 0 que es el puro nombre"
   ]
  },
  {
   "cell_type": "markdown",
   "id": "9646b1fe",
   "metadata": {},
   "source": [
    "# Paso 9\n",
    "\n",
    "Ahora vamos a mostrar el nombre y la edad de todos los usuarios y todas las usuarias que han comprado ropa (\"clothes\"). Imprime el nombre y la edad en la misma declaración print."
   ]
  },
  {
   "cell_type": "code",
   "execution_count": 138,
   "id": "6fd90b6f",
   "metadata": {},
   "outputs": [
    {
     "name": "stdout",
     "output_type": "stream",
     "text": [
      "El usuario kate, con una edad de 24 años, ha comprado ropa\n",
      "El usuario samantha, con una edad de 29 años, ha comprado ropa\n",
      "El usuario maria, con una edad de 33 años, ha comprado ropa\n",
      "El usuario lisa, con una edad de 35 años, ha comprado ropa\n",
      "El usuario james, con una edad de 28 años, ha comprado ropa\n"
     ]
    }
   ],
   "source": [
    "users = [['32415', ['mike', 'reed'], 32, ['electronics', 'sport', 'books'], [894, 213, 173]],\n",
    "         ['31980', ['kate', 'morgan'], 24, ['clothes', 'books'], [439, 390]],\n",
    "         ['32156', ['john', 'doe'], 37, ['electronics', 'home', 'food'], [459, 120, 99]],\n",
    "         ['32761', ['samantha', 'smith'], 29, ['clothes', 'electronics', 'beauty'], [299, 679, 85]],\n",
    "         ['32984', ['david', 'white'], 41, ['books', 'home', 'sport'], [234, 329, 243]],\n",
    "         ['33001', ['emily', 'brown'], 26, ['beauty', 'home', 'food'], [213, 659, 79]],\n",
    "         ['33767', ['maria', 'garcia'], 33, ['clothes', 'food', 'beauty'], [499, 189, 63]],\n",
    "         ['33912', ['jose', 'martinez'], 22, ['sport', 'electronics', 'home'], [259, 549, 109]],\n",
    "         ['34009', ['lisa', 'wilson'], 35, ['home', 'books', 'clothes'], [329, 189, 329]],\n",
    "         ['34278', ['james', 'lee'], 28, ['beauty', 'clothes', 'electronics'], [189, 299, 579]]]\n",
    "for user in users: #Ciclo for que itera sobre cada usuario\n",
    "    if 'clothes' in user[3]: #Sentencia if que evalua si la cadena clothes se encuentra en el índice 3 de cada usuario, que corresponde a las categorías compradas\n",
    "        print(f\"El usuario {user[1][0]}, con una edad de {user[2]} años, ha comprado ropa\") #Cadena formateada que devuelve el mensaje con el nombre del usuario y su edad"
   ]
  },
  {
   "cell_type": "markdown",
   "id": "be2138f1",
   "metadata": {},
   "source": [
    "# Paso 10\n",
    "\n",
    "La dirección requiere de una función que proporcione información sobre los clientes, incluyendo sus nombres, edades y gasto total, filtrada por categorías específicas. Con base en fragmentos de código anteriores, crearemos una función llamada `get_client_by_cat` con las siguientes especificaciones:\n",
    "\n",
    "1. **Parámetros:**\n",
    "   - **users:** una lista con los datos de los usuarios.\n",
    "   - **id_index:** el índice donde está almacenado el ID del cliente en la lista de usuarios.\n",
    "   - **name_index:** el índice donde está almacenado el nombre del cliente en la lista de usuarios.\n",
    "   - **age_index:** el índice donde la edad del cliente está almacenada en la lista de usuarios.\n",
    "   - **category_index:** el índice donde las categorías de compras del cliente están listadas.\n",
    "   - **amounts_index:** el índice donde las cantidades gastadas en cada categoría están almacenadas.\n",
    "   - **filter_category:** un string que representa el nombre de la categoría para filtrar clientes.\n",
    "\n",
    "2. **Salida:**\n",
    "   - La función devuelve una lista de sublistas. Cada sublista contiene:\n",
    "     - El número ID del cliente.\n",
    "     - Una sublista con el nombre y apellido del cliente.\n",
    "     - La edad del cliente.\n",
    "     - Un entero que representa la cantidad total gastada por el cliente.\n",
    "\n",
    "Por ejemplo, si llamas a la función con los siguientes parámetros:\n",
    "\n",
    "\n",
    "```python\n",
    "get_client_by_cat([\n",
    "    ['32415', ['mike', 'reed'], 32, ['electronics', 'sport', 'books'], [894, 213, 173]]\n",
    "], 0, 1, 2, 3, 4, 'books')\n",
    "```\n",
    "\n",
    "La salida será:\n",
    "\n",
    "```python\n",
    "[['32415', ['mike', 'reed'], 32, 1280]]\n",
    "```\n",
    "\n",
    "Esta salida muestra que el cliente con el ID '32415', llamado Mike Reed, de 32 años, gastó un total de 1280 en la categoría 'books' y otras compras.\n",
    "\n",
    "Después de hacer tu función, llámala pasándole nuestra lista de usuarios, los índices adecuados y la categoría 'home' y muestra en pantalla la lista que resulta."
   ]
  },
  {
   "cell_type": "code",
   "execution_count": null,
   "id": "18a214a9",
   "metadata": {},
   "outputs": [
    {
     "name": "stdout",
     "output_type": "stream",
     "text": [
      "El usuario john con id 32156 tiene 37 años y gastó un total de $678\n",
      "El usuario david con id 32984 tiene 41 años y gastó un total de $806\n",
      "El usuario emily con id 33001 tiene 26 años y gastó un total de $951\n",
      "El usuario jose con id 33912 tiene 22 años y gastó un total de $917\n",
      "El usuario lisa con id 34009 tiene 35 años y gastó un total de $847\n"
     ]
    }
   ],
   "source": [
    "users = [\n",
    "    ['32415', ['mike', 'reed'], 32, ['electronics', 'sport', 'books'], [894, 213, 173]],\n",
    "    ['31980', ['kate', 'morgan'], 24, ['clothes', 'books'], [439, 390]],\n",
    "    ['32156', ['john', 'doe'], 37, ['electronics', 'home', 'food'], [459, 120, 99]],\n",
    "    ['32761', ['samantha', 'smith'], 29, ['clothes', 'electronics', 'beauty'], [299, 679, 85]],\n",
    "    ['32984', ['david', 'white'], 41, ['books', 'home', 'sport'], [234, 329, 243]],\n",
    "    ['33001', ['emily', 'brown'], 26, ['beauty', 'home', 'food'], [213, 659, 79]],\n",
    "    ['33767', ['maria', 'garcia'], 33, ['clothes', 'food', 'beauty'], [499, 189, 63]],\n",
    "    ['33912', ['jose', 'martinez'], 22, ['sport', 'electronics', 'home'], [259, 549, 109]],\n",
    "    ['34009', ['lisa', 'wilson'], 35, ['home', 'books', 'clothes'], [329, 189, 329]],\n",
    "    ['34278', ['james', 'lee'], 28, ['beauty', 'clothes', 'electronics'], [189, 299, 579]]\n",
    "]\n",
    "\n",
    "def get_client_by_cat (list,id,name,age,cat,spend,fil_cat): #Declaración de la función con sus parametros\n",
    "    result = [] #Creación de una variable vacía para almacenar el resultado\n",
    "    for user in list: #Ciclo for que itera sobre cada usuario en la lista\n",
    "        if fil_cat in user[cat]: #Sentencia if que evalua si la categoría filtrada está en la sublista de categorías compradas\n",
    "            result.append([user[id],user[name],user[age],sum(user[spend])]) #Adición del Id, nombre, edad y total de gastos si se cumple la sentencia if\n",
    "    return result\n",
    "\n",
    "result = [] #Creación de variable vacía para almacenar el resultado de llamar a la función\n",
    "#indices para llamar a la función \n",
    "id_index = 0\n",
    "name_index = 1\n",
    "age_index = 2\n",
    "cat_index = 3\n",
    "amount_index = 4\n",
    "target_cat = 'home'\n",
    "\n",
    "user_filtered = get_client_by_cat(users,id_index,name_index,age_index,cat_index,amount_index,target_cat) #Llamada de la función y almacenada en la variable\n",
    "\n",
    "for user in user_filtered: #Iteración por cada usuario con ciclo for\n",
    "    #impresión de los datos obtenidos con una cadena formateada\n",
    "    print(f\"El usuario {user[1][0]} con id {user[0]} tiene {user[2]} años y gastó un total de ${user[3]}\")"
   ]
  }
 ],
 "metadata": {
  "kernelspec": {
   "display_name": "Python 3",
   "language": "python",
   "name": "python3"
  },
  "language_info": {
   "codemirror_mode": {
    "name": "ipython",
    "version": 3
   },
   "file_extension": ".py",
   "mimetype": "text/x-python",
   "name": "python",
   "nbconvert_exporter": "python",
   "pygments_lexer": "ipython3",
   "version": "3.13.2"
  }
 },
 "nbformat": 4,
 "nbformat_minor": 5
}
